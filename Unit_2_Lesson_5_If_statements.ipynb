{
  "nbformat": 4,
  "nbformat_minor": 0,
  "metadata": {
    "colab": {
      "name": "Unit 2 Lesson 5 - If statements.ipynb",
      "provenance": [],
      "authorship_tag": "ABX9TyNfuBDby2qcM+LpZRleh4gG",
      "include_colab_link": true
    },
    "kernelspec": {
      "name": "python3",
      "display_name": "Python 3"
    }
  },
  "cells": [
    {
      "cell_type": "markdown",
      "metadata": {
        "id": "view-in-github",
        "colab_type": "text"
      },
      "source": [
        "<a href=\"https://colab.research.google.com/github/muktasidrahman/Micro_credentials/blob/main/Unit_2_Lesson_5_If_statements.ipynb\" target=\"_parent\"><img src=\"https://colab.research.google.com/assets/colab-badge.svg\" alt=\"Open In Colab\"/></a>"
      ]
    },
    {
      "cell_type": "code",
      "metadata": {
        "id": "tflUScW0cFMF"
      },
      "source": [
        "#1) Make a list of 5 or more usernames, including an admin account.\r\n",
        "#Imagine you are writing code that will welcome people to your application on login. Loop through the list and print your greeting.\r\n",
        "#If the admin account logs in, give them a special greeting.  They’re the admin, after all!\r\n",
        "#Other users can get the generic greeting\r\n"
      ],
      "execution_count": null,
      "outputs": []
    },
    {
      "cell_type": "code",
      "metadata": {
        "colab": {
          "base_uri": "https://localhost:8080/"
        },
        "id": "HG2ZKQOYeXed",
        "outputId": "ab8270ba-c8ca-4379-f938-413d31476841"
      },
      "source": [
        "usernames = [\"admin\",\"john\",\"Chris\",\"jose\",\"andrew\"]\r\n",
        "\r\n",
        "for user in usernames:\r\n",
        "  if user == 'admin':\r\n",
        "    print(\"Hello admin, are you ready to see your daily reports?\")\r\n",
        "  else:\r\n",
        "    print(\"Hello\", user, \"thanks for logging in\")\r\n",
        "\r\n"
      ],
      "execution_count": 94,
      "outputs": [
        {
          "output_type": "stream",
          "text": [
            "Hello admin, are you ready to see your daily reports?\n",
            "Hello john thanks for logging in\n",
            "Hello Chris thanks for logging in\n",
            "Hello jose thanks for logging in\n",
            "Hello andrew thanks for logging in\n"
          ],
          "name": "stdout"
        }
      ]
    },
    {
      "cell_type": "code",
      "metadata": {
        "id": "FNR3mR6gex6W"
      },
      "source": [
        "#2) Store numbers 1-10 in a list. \r\n",
        "#Loop through the list\r\n",
        "#Use an if-elif-else chain inside your loop to print the ordinal ending for each number – for example – 1st, 2nd, 3rd … etc."
      ],
      "execution_count": 73,
      "outputs": []
    },
    {
      "cell_type": "code",
      "metadata": {
        "colab": {
          "base_uri": "https://localhost:8080/"
        },
        "id": "Y1KiN5W-f1xe",
        "outputId": "e03fcdc3-b2ab-4574-da92-1c7480b136e4"
      },
      "source": [
        "num_list = [1,2,3,4,5,6,7,8,9,10]\r\n",
        "\r\n",
        "for i in num_list:\r\n",
        "  if i == 1:\r\n",
        "    print(\"1st\")\r\n",
        "  elif i == 2:\r\n",
        "    print(\"2nd\")\r\n",
        "  elif i == 3:\r\n",
        "    print(\"3rd\")\r\n",
        "  else:\r\n",
        "    print(str(i)+ \"th\" )"
      ],
      "execution_count": 10,
      "outputs": [
        {
          "output_type": "stream",
          "text": [
            "1st\n",
            "2nd\n",
            "3rd\n",
            "4th\n",
            "5th\n",
            "6th\n",
            "7th\n",
            "8th\n",
            "9th\n",
            "10th\n"
          ],
          "name": "stdout"
        }
      ]
    }
  ]
}