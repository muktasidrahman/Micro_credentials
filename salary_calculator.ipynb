{
  "nbformat": 4,
  "nbformat_minor": 0,
  "metadata": {
    "colab": {
      "name": "salary_calculator.ipynb",
      "provenance": [],
      "authorship_tag": "ABX9TyNKEvSZbz0YquACBl2dTfiB",
      "include_colab_link": true
    },
    "kernelspec": {
      "name": "python3",
      "display_name": "Python 3"
    }
  },
  "cells": [
    {
      "cell_type": "markdown",
      "metadata": {
        "id": "view-in-github",
        "colab_type": "text"
      },
      "source": [
        "<a href=\"https://colab.research.google.com/github/muktasidrahman/Micro_credentials/blob/main/salary_calculator.ipynb\" target=\"_parent\"><img src=\"https://colab.research.google.com/assets/colab-badge.svg\" alt=\"Open In Colab\"/></a>"
      ]
    },
    {
      "cell_type": "code",
      "metadata": {
        "id": "rhOJc7EswJrr"
      },
      "source": [
        "#Create an application to produce net pay. Gross pay is the amount before deductions.\n",
        "#Net pay is the final result after all of the deductions have been subtracted. \n",
        "#The deductions are as follows:\n",
        "#Federal Tax: 20%\n",
        "#State Tax: 7%\n",
        "#Health insurance: 5%\n",
        "#401k: 10%\n"
      ],
      "execution_count": null,
      "outputs": []
    },
    {
      "cell_type": "code",
      "metadata": {
        "colab": {
          "base_uri": "https://localhost:8080/"
        },
        "id": "nqGDn_D7udQk",
        "outputId": "e2c5c7cd-58f3-4831-e371-85bbc8a78430"
      },
      "source": [
        "hours = float(input(\"Enter how many hours you worked: \"))\n",
        "wage = float(input(\"Enter how much you received per hour: \"))"
      ],
      "execution_count": 85,
      "outputs": [
        {
          "output_type": "stream",
          "text": [
            "Enter how many hours you worked: 15\n",
            "Enter how much you received per hour: 20\n"
          ],
          "name": "stdout"
        }
      ]
    },
    {
      "cell_type": "code",
      "metadata": {
        "colab": {
          "base_uri": "https://localhost:8080/"
        },
        "id": "yo1utKj4iSzo",
        "outputId": "1863536e-f149-493d-a52a-648c3c465f61"
      },
      "source": [
        "def gross_cal(hours,wage):\r\n",
        "  if hours > 0 and hours <= 40 :\r\n",
        "    gpay = hours*wage\r\n",
        "    return gpay\r\n",
        "  elif hours > 40:\r\n",
        "    pay = (40*wage)+(hours-40)*(1.5*wage)\r\n",
        "    return pay\r\n",
        "  else:\r\n",
        "    print(\"Errors: Invalid entry for hours!\")\r\n",
        "\r\n",
        "print(gross_cal(hours,wage))\r\n",
        "\r\n",
        "gross = gross_cal(hours,wage)\r\n",
        "print(\"The gross pay is:\",\"{:.2f}\".format(gross))\r\n",
        "\r\n",
        "\r\n",
        "def contribute_401k():\r\n",
        "  con = gross* 0.10\r\n",
        "  return con\r\n",
        "\r\n",
        "contribution = contribute_401k()\r\n",
        "print(\"The 401k contribution is:\",\"{:.2f}\".format(contribution))\r\n",
        "\r\n",
        "def health_insurance(): \r\n",
        "  after_helath = gross* 0.05\r\n",
        "  return after_helath\r\n",
        "  \r\n",
        "health = health_insurance()\r\n",
        "print(\"The cost for health insurance is:\",\"{:.2f}\".format(health))\r\n",
        "\r\n",
        "def federal_tax ():\r\n",
        "  tax = (gross-contribution) *0.20\r\n",
        "  return tax\r\n",
        "\r\n",
        "federal = (federal_tax())\r\n",
        "print(\"The federal tax amount is:\",\"{:.2f}\".format(federal))\r\n",
        "\r\n",
        "\r\n",
        "def state_tax():\r\n",
        "  tax = (gross-contribution) * 0.07\r\n",
        "  return tax\r\n",
        "  \r\n",
        "state = (state_tax())\r\n",
        "print(\"The state tax amount is:\",\"{:.2f}\".format(state))\r\n",
        "\r\n",
        "def net_pay ():\r\n",
        "  net_total = (gross-contribution-health-federal-state)\r\n",
        "  return net_total\r\n",
        "\r\n",
        "net_income = net_pay()\r\n",
        "print(\"The net income after the tax is:\",\"{:.2f}\".format(net_income))"
      ],
      "execution_count": 86,
      "outputs": [
        {
          "output_type": "stream",
          "text": [
            "300.0\n",
            "The gross pay is: 300.00\n",
            "The 401k contribution is: 30.00\n",
            "The cost for health insurance is: 15.00\n",
            "The federal tax amount is: 54.00\n",
            "The state tax amount is: 18.90\n",
            "The net income after the tax is: 182.10\n"
          ],
          "name": "stdout"
        }
      ]
    },
    {
      "cell_type": "code",
      "metadata": {
        "id": "XsJNcTnWte-l"
      },
      "source": [
        ""
      ],
      "execution_count": null,
      "outputs": []
    },
    {
      "cell_type": "code",
      "metadata": {
        "id": "eFu85dp9iiVA"
      },
      "source": [
        ""
      ],
      "execution_count": null,
      "outputs": []
    }
  ]
}