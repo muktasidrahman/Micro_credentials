{
  "nbformat": 4,
  "nbformat_minor": 0,
  "metadata": {
    "colab": {
      "name": "Unit2_L3_Lists.ipynb",
      "provenance": [],
      "authorship_tag": "ABX9TyOUoB4051m47yb24CqJwbF+",
      "include_colab_link": true
    },
    "kernelspec": {
      "name": "python3",
      "display_name": "Python 3"
    }
  },
  "cells": [
    {
      "cell_type": "markdown",
      "metadata": {
        "id": "view-in-github",
        "colab_type": "text"
      },
      "source": [
        "<a href=\"https://colab.research.google.com/github/muktasidrahman/Micro_credentials/blob/main/Unit2_L3_Lists.ipynb\" target=\"_parent\"><img src=\"https://colab.research.google.com/assets/colab-badge.svg\" alt=\"Open In Colab\"/></a>"
      ]
    },
    {
      "cell_type": "code",
      "metadata": {
        "id": "hqXY1o-2lWd1"
      },
      "source": [
        "#Name: Muktasid Rahman\r\n",
        "#Lesson 3: Working with Lists\r\n"
      ],
      "execution_count": null,
      "outputs": []
    },
    {
      "cell_type": "code",
      "metadata": {
        "id": "CCKEZcHWlaAI"
      },
      "source": [
        "# 1)Create a list of 5 of your favorite tv shows.  \r\n",
        "favorite_shows = ['The Office','Prison Break','Friends', 'Ozark','Narcos']"
      ],
      "execution_count": null,
      "outputs": []
    },
    {
      "cell_type": "code",
      "metadata": {
        "colab": {
          "base_uri": "https://localhost:8080/"
        },
        "id": "k9Z5rXEalgmG",
        "outputId": "4574c895-9fe1-4fd0-e3d8-b878948b351e"
      },
      "source": [
        "# 2)Print the list in its original order.\r\n",
        "print(favorite_shows)\r\n"
      ],
      "execution_count": null,
      "outputs": [
        {
          "output_type": "stream",
          "text": [
            "['The Office', 'Prison Break', 'Friends', 'Ozark', 'Narcos']\n"
          ],
          "name": "stdout"
        }
      ]
    },
    {
      "cell_type": "code",
      "metadata": {
        "colab": {
          "base_uri": "https://localhost:8080/"
        },
        "id": "1yjXYkDplyMC",
        "outputId": "ffef13bb-ccfa-458f-bb9a-fc76d2d65801"
      },
      "source": [
        "# 3) Use the sorted() function to print the list in alphabetical order.  How is sorted() different from sort()?\r\n",
        "sorted(favorite_shows)"
      ],
      "execution_count": null,
      "outputs": [
        {
          "output_type": "execute_result",
          "data": {
            "text/plain": [
              "['Friends', 'Narcos', 'Ozark', 'Prison Break', 'The Office']"
            ]
          },
          "metadata": {
            "tags": []
          },
          "execution_count": 10
        }
      ]
    },
    {
      "cell_type": "code",
      "metadata": {
        "colab": {
          "base_uri": "https://localhost:8080/"
        },
        "id": "kDf7QpuwmIxh",
        "outputId": "b6be97f3-6c3d-4049-e1ac-e8f6b03f2e66"
      },
      "source": [
        "# 4)Print out your original list.\r\n",
        "print(favorite_shows)\r\n"
      ],
      "execution_count": null,
      "outputs": [
        {
          "output_type": "stream",
          "text": [
            "['The Office', 'Prison Break', 'Friends', 'Ozark', 'Narcos']\n"
          ],
          "name": "stdout"
        }
      ]
    },
    {
      "cell_type": "code",
      "metadata": {
        "colab": {
          "base_uri": "https://localhost:8080/"
        },
        "id": "Zx63hqaNmUsi",
        "outputId": "8e10c764-38ed-439c-c9ac-d3ecd7afb96e"
      },
      "source": [
        "# 5) Used sorted() to print your list in reverse alphabetical order.\r\n",
        "\r\n",
        "sorted(favorite_shows,reverse=True)"
      ],
      "execution_count": null,
      "outputs": [
        {
          "output_type": "execute_result",
          "data": {
            "text/plain": [
              "['The Office', 'Prison Break', 'Ozark', 'Narcos', 'Friends']"
            ]
          },
          "metadata": {
            "tags": []
          },
          "execution_count": 12
        }
      ]
    },
    {
      "cell_type": "code",
      "metadata": {
        "colab": {
          "base_uri": "https://localhost:8080/"
        },
        "id": "-DLKBadUnuqG",
        "outputId": "eee64370-1525-4135-c8c4-4f01ca67a778"
      },
      "source": [
        "# 6) Create a message indicating how many favorite TV shows you have – use the len() function.\r\n",
        "print(len(favorite_shows))"
      ],
      "execution_count": null,
      "outputs": [
        {
          "output_type": "stream",
          "text": [
            "5\n"
          ],
          "name": "stdout"
        }
      ]
    },
    {
      "cell_type": "code",
      "metadata": {
        "id": "WzLW9qtyn7XY"
      },
      "source": [
        ""
      ],
      "execution_count": null,
      "outputs": []
    }
  ]
}