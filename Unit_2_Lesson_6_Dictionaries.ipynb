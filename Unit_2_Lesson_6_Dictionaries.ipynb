{
  "nbformat": 4,
  "nbformat_minor": 0,
  "metadata": {
    "colab": {
      "name": "Unit 2 Lesson 6 - Dictionaries.ipynb",
      "provenance": [],
      "authorship_tag": "ABX9TyO8n7cNukWXi9xjTYdDMi0x",
      "include_colab_link": true
    },
    "kernelspec": {
      "name": "python3",
      "display_name": "Python 3"
    }
  },
  "cells": [
    {
      "cell_type": "markdown",
      "metadata": {
        "id": "view-in-github",
        "colab_type": "text"
      },
      "source": [
        "<a href=\"https://colab.research.google.com/github/muktasidrahman/Micro_credentials/blob/main/Unit_2_Lesson_6_Dictionaries.ipynb\" target=\"_parent\"><img src=\"https://colab.research.google.com/assets/colab-badge.svg\" alt=\"Open In Colab\"/></a>"
      ]
    },
    {
      "cell_type": "markdown",
      "metadata": {
        "id": "luCo_7IyAqT_"
      },
      "source": [
        "# **Name: Muktasid Rahman**\r\n",
        "\r\n",
        "# Lesson: Unit 2 – Python Dictionaries \r\n"
      ]
    },
    {
      "cell_type": "code",
      "metadata": {
        "id": "hKhCjR-mENQz"
      },
      "source": [
        "#1) Create a simple dictionary that stores 2 variables, for example: first and last name."
      ],
      "execution_count": 23,
      "outputs": []
    },
    {
      "cell_type": "code",
      "metadata": {
        "id": "hYVWGDGuCq7X"
      },
      "source": [
        "full_name = {\"first_name\": \"Muktasid\", \"last_name\": \"Rahman\"}"
      ],
      "execution_count": 24,
      "outputs": []
    },
    {
      "cell_type": "code",
      "metadata": {
        "id": "_QrxWnUqEQ25"
      },
      "source": [
        "#2) Print out those variables stored in your previous dictionary. "
      ],
      "execution_count": 25,
      "outputs": []
    },
    {
      "cell_type": "code",
      "metadata": {
        "colab": {
          "base_uri": "https://localhost:8080/"
        },
        "id": "_ZbL-qnpDuIN",
        "outputId": "543aa5f0-c8ba-4bd4-e9bc-f344814eb97b"
      },
      "source": [
        "print(full_name)"
      ],
      "execution_count": 26,
      "outputs": [
        {
          "output_type": "stream",
          "text": [
            "{'first_name': 'Muktasid', 'last_name': 'Rahman'}\n"
          ],
          "name": "stdout"
        }
      ]
    },
    {
      "cell_type": "code",
      "metadata": {
        "id": "_lgKUeemEFEw"
      },
      "source": [
        "#3) Add a message to those variables on printing: for example: “Hello, firstname lastname!”"
      ],
      "execution_count": 27,
      "outputs": []
    },
    {
      "cell_type": "code",
      "metadata": {
        "colab": {
          "base_uri": "https://localhost:8080/"
        },
        "id": "PGALeMgCDzHY",
        "outputId": "1b719bcb-1804-4828-c08d-8a2dbbdc3f51"
      },
      "source": [
        "print(\"Hello,\",full_name[\"first_name\"],full_name[\"last_name\"],\"welcome to class\")"
      ],
      "execution_count": 29,
      "outputs": [
        {
          "output_type": "stream",
          "text": [
            "Hello, Muktasid Rahman welcome to class\n"
          ],
          "name": "stdout"
        }
      ]
    },
    {
      "cell_type": "code",
      "metadata": {
        "id": "Heh42RAfEjg6"
      },
      "source": [
        "#4) Create a dictionary that holds 2 key: value pairs: \r\n",
        "#Look through your dictionary and print each pair,\r\n"
      ],
      "execution_count": 30,
      "outputs": []
    },
    {
      "cell_type": "code",
      "metadata": {
        "colab": {
          "base_uri": "https://localhost:8080/"
        },
        "id": "4VyGLc9sHGfP",
        "outputId": "45e955ef-5368-49d0-ec71-2b4cb9486ac6"
      },
      "source": [
        "car_model = {\"Company\": \"BMW\", \r\n",
        "             \"Model\": \"M4\"}\r\n",
        "\r\n",
        "for key,value in car_model.items():\r\n",
        "  print(value,\":\" ,key)"
      ],
      "execution_count": 50,
      "outputs": [
        {
          "output_type": "stream",
          "text": [
            "BMW : Company\n",
            "M4 : Model\n"
          ],
          "name": "stdout"
        }
      ]
    },
    {
      "cell_type": "code",
      "metadata": {
        "id": "gMLyRW0TK6tT"
      },
      "source": [
        "#5) Create a nested dictionary containing three dictionaries – these dictionaries could be anything (favorite pets, travel locations, etc.)\r\n",
        "#Loop through the dictionaries and print a message for each."
      ],
      "execution_count": 54,
      "outputs": []
    },
    {
      "cell_type": "code",
      "metadata": {
        "colab": {
          "base_uri": "https://localhost:8080/"
        },
        "id": "ss0wZvSQLCV0",
        "outputId": "b1afe7c0-0a5e-4048-b9dd-9e28842db1d5"
      },
      "source": [
        "favorite_car = {\"Car_1\":{\"Company\":\"Toyota\",\"Model\":\"Camry\",\"year\": 2020,\"price\":25000},\r\n",
        "                \"Car_2\":{\"Company\":\"Honda\",\"Model\":\"Accord\",\"year\": 2021,\"price\":28000},\r\n",
        "                \"Car_3\":{\"Company\":\"Mercedes Benz\",\"Model\":\"C-class\",\"year\": 2017,\"price\":38000}}\r\n",
        "\r\n",
        "for k,v in favorite_car.items():\r\n",
        "  print(k,v)"
      ],
      "execution_count": 60,
      "outputs": [
        {
          "output_type": "stream",
          "text": [
            "Car_1 {'Company': 'Toyota', 'Model': 'Camry', 'year': 2020, 'price': 25000}\n",
            "Car_2 {'Company': 'Honda', 'Model': 'Accord', 'year': 2021, 'price': 28000}\n",
            "Car_3 {'Company': 'Mercedes Benz', 'Model': 'C-class', 'year': 2017, 'price': 38000}\n"
          ],
          "name": "stdout"
        }
      ]
    }
  ]
}