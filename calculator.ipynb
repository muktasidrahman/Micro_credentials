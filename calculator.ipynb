{
  "nbformat": 4,
  "nbformat_minor": 0,
  "metadata": {
    "colab": {
      "name": "calculator.ipynb",
      "provenance": [],
      "authorship_tag": "ABX9TyPl6/GpcDlfWSBs3C53vLe1",
      "include_colab_link": true
    },
    "kernelspec": {
      "name": "python3",
      "display_name": "Python 3"
    }
  },
  "cells": [
    {
      "cell_type": "markdown",
      "metadata": {
        "id": "view-in-github",
        "colab_type": "text"
      },
      "source": [
        "<a href=\"https://colab.research.google.com/github/muktasidrahman/Micro_credentials/blob/main/calculator.ipynb\" target=\"_parent\"><img src=\"https://colab.research.google.com/assets/colab-badge.svg\" alt=\"Open In Colab\"/></a>"
      ]
    },
    {
      "cell_type": "code",
      "metadata": {
        "colab": {
          "base_uri": "https://localhost:8080/"
        },
        "id": "XOwWX853PyOy",
        "outputId": "51a8ecc9-c4ea-48c2-d5b2-b6e25abaab1f"
      },
      "source": [
        "#Function add two numbers \r\n",
        "def add_num(x,y):\r\n",
        "  return (x+y)\r\n",
        "\r\n",
        "#Function subtract two numbers \r\n",
        "def subtract_num(x,y):\r\n",
        "  return (x-y)\r\n",
        "\r\n",
        "#Function multiply two numbers \r\n",
        "def multiply_num(x,y):\r\n",
        "  return (x*y)\r\n",
        "\r\n",
        "#Function divide two numbers \r\n",
        "def divide_num (x,y):\r\n",
        "  return (x/y)\r\n",
        "\r\n",
        "#Ask the user to input a math operator \r\n",
        "print(\"Please select a math operation: \\\r\n",
        "\\n 1- ADD \\n 2- SUBTRACT \\n 3- MULTIPLY \\n 4- DIVIDE \")\r\n",
        "\r\n",
        "choice = int (input(\"Enter your choice (1,2,3,4):\"))\r\n",
        "\r\n",
        "#Ask the user to enter the first number\r\n",
        "num1 = int(input(\"Please enter your first number: \"))\r\n",
        "\r\n",
        "#Ask the user to enter the second number\r\n",
        "num2 = int(input(\"Please enter your second number number: \"))\r\n",
        "\r\n",
        "\r\n",
        "if choice == 1:\r\n",
        "  print(num1, \"+\", num2, \"=\", add_num(num1,num2))\r\n",
        "elif choice == 2:\r\n",
        "   print(num1, \"-\", num2, \"=\", subtract_num(num1,num2))\r\n",
        "elif choice == 3:\r\n",
        "  print(num1, \"*\", num2, \"=\", multiply_num(num1,num2))\r\n",
        "elif choice == 4:\r\n",
        "  print(num1, \"/\",num2, \"=\", divide_num(num1,num2))\r\n",
        "else:\r\n",
        "  print(\"You have entered invalid operation!\")\r\n",
        "\r\n",
        "\r\n",
        "\r\n",
        "\r\n",
        "\r\n",
        "\r\n"
      ],
      "execution_count": 1,
      "outputs": [
        {
          "output_type": "stream",
          "text": [
            "Please select a math operation: \n",
            " 1- ADD \n",
            " 2- SUBTRACT \n",
            " 3- MULTIPLY \n",
            " 4- DIVIDE \n",
            "Enter your choice (1,2,3,4):4\n",
            "Please enter your first number: 33\n",
            "Please enter your second number number: 3\n",
            "33 / 3 = 11.0\n"
          ],
          "name": "stdout"
        }
      ]
    },
    {
      "cell_type": "code",
      "metadata": {
        "id": "2ZgzLmQ3QejB"
      },
      "source": [
        ""
      ],
      "execution_count": null,
      "outputs": []
    }
  ]
}