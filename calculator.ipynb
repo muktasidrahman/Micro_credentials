{
  "nbformat": 4,
  "nbformat_minor": 0,
  "metadata": {
    "colab": {
      "name": "calculator.ipynb",
      "provenance": []
    },
    "kernelspec": {
      "name": "python3",
      "display_name": "Python 3"
    }
  },
  "cells": [
    {
      "cell_type": "code",
      "metadata": {
        "colab": {
          "base_uri": "https://localhost:8080/"
        },
        "id": "XOwWX853PyOy",
        "outputId": "d5648d3c-33cc-44cb-b7d9-bb26dcf177dd"
      },
      "source": [
        "#Function add two numbers \r\n",
        "def add_num(x,y):\r\n",
        "  return (x+y)\r\n",
        "\r\n",
        "#Function subtract two numbers \r\n",
        "def subtract_num(x,y):\r\n",
        "  return (x-y)\r\n",
        "\r\n",
        "#Function multiply two numbers \r\n",
        "def multiply_num(x,y):\r\n",
        "  return (x*y)\r\n",
        "\r\n",
        "#Function divide two numbers \r\n",
        "def divide_num (x,y):\r\n",
        "  return (x/y)\r\n",
        "\r\n",
        "\r\n",
        "#Ask the user to enter the first number\r\n",
        "num1 = int(input(\"Please enter the first number: \"))\r\n",
        "\r\n",
        "#Ask the user to input a math operator \r\n",
        "operator = input(\"Enter the operator: \")\r\n",
        "\r\n",
        "#Ask the user to enter the second number\r\n",
        "num2 = int(input(\"Please enter the second number number: \"))\r\n",
        "\r\n",
        "\r\n",
        "if operator == \"+\":\r\n",
        "  print(add_num(num1,num2))\r\n",
        "elif operator == \"-\":\r\n",
        "   print(subtract_num(num1,num2))\r\n",
        "elif operator == \"*\":\r\n",
        "  print(multiply_num(num1,num2))\r\n",
        "elif operator == \"/\":\r\n",
        "  print(divide_num(num1,num2))\r\n",
        "else:\r\n",
        "  print(\"You have entered an invalid operation!\")\r\n",
        "\r\n"
      ],
      "execution_count": 11,
      "outputs": [
        {
          "output_type": "stream",
          "text": [
            "Please enter the first number: 2\n",
            "Enter the operator: *\n",
            "Please enter the second number number: 23\n",
            "46\n"
          ],
          "name": "stdout"
        }
      ]
    }
  ]
}
